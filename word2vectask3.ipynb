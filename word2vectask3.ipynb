{
 "cells": [
  {
   "cell_type": "markdown",
   "id": "1ba81432-1b4d-45ee-850c-f9b6340a7ca8",
   "metadata": {},
   "source": [
    "# Importing necessary libraries"
   ]
  },
  {
   "cell_type": "code",
   "execution_count": 89,
   "id": "d4de48c0-25bb-41be-ba92-835c34aa13a3",
   "metadata": {},
   "outputs": [],
   "source": [
    "# uses for data analysis \n",
    "import pandas as pd\n",
    "#uses neural networks to create word embeddings\n",
    "import gensim\n",
    "from gensim.models import Word2Vec, KeyedVectors\n",
    "\n",
    "# using for tokenization\n",
    "import nltk"
   ]
  },
  {
   "cell_type": "code",
   "execution_count": 90,
   "id": "be654f22-a26e-40e4-be49-acb478d562e9",
   "metadata": {},
   "outputs": [],
   "source": [
    "df = pd.read_csv('/Users/vamshikrishna/Downloads/reddit_worldnews_start_to_2016-11-22.csv')"
   ]
  },
  {
   "cell_type": "code",
   "execution_count": 91,
   "id": "5ff4779a-5b40-448b-b6fd-2546d5dfcf7d",
   "metadata": {},
   "outputs": [
    {
     "data": {
      "text/html": [
       "<div>\n",
       "<style scoped>\n",
       "    .dataframe tbody tr th:only-of-type {\n",
       "        vertical-align: middle;\n",
       "    }\n",
       "\n",
       "    .dataframe tbody tr th {\n",
       "        vertical-align: top;\n",
       "    }\n",
       "\n",
       "    .dataframe thead th {\n",
       "        text-align: right;\n",
       "    }\n",
       "</style>\n",
       "<table border=\"1\" class=\"dataframe\">\n",
       "  <thead>\n",
       "    <tr style=\"text-align: right;\">\n",
       "      <th></th>\n",
       "      <th>time_created</th>\n",
       "      <th>date_created</th>\n",
       "      <th>up_votes</th>\n",
       "      <th>down_votes</th>\n",
       "      <th>title</th>\n",
       "      <th>over_18</th>\n",
       "      <th>author</th>\n",
       "      <th>subreddit</th>\n",
       "    </tr>\n",
       "  </thead>\n",
       "  <tbody>\n",
       "    <tr>\n",
       "      <th>0</th>\n",
       "      <td>1201232046</td>\n",
       "      <td>2008-01-25</td>\n",
       "      <td>3</td>\n",
       "      <td>0</td>\n",
       "      <td>Scores killed in Pakistan clashes</td>\n",
       "      <td>False</td>\n",
       "      <td>polar</td>\n",
       "      <td>worldnews</td>\n",
       "    </tr>\n",
       "    <tr>\n",
       "      <th>1</th>\n",
       "      <td>1201232075</td>\n",
       "      <td>2008-01-25</td>\n",
       "      <td>2</td>\n",
       "      <td>0</td>\n",
       "      <td>Japan resumes refuelling mission</td>\n",
       "      <td>False</td>\n",
       "      <td>polar</td>\n",
       "      <td>worldnews</td>\n",
       "    </tr>\n",
       "    <tr>\n",
       "      <th>2</th>\n",
       "      <td>1201232523</td>\n",
       "      <td>2008-01-25</td>\n",
       "      <td>3</td>\n",
       "      <td>0</td>\n",
       "      <td>US presses Egypt on Gaza border</td>\n",
       "      <td>False</td>\n",
       "      <td>polar</td>\n",
       "      <td>worldnews</td>\n",
       "    </tr>\n",
       "    <tr>\n",
       "      <th>3</th>\n",
       "      <td>1201233290</td>\n",
       "      <td>2008-01-25</td>\n",
       "      <td>1</td>\n",
       "      <td>0</td>\n",
       "      <td>Jump-start economy: Give health care to all</td>\n",
       "      <td>False</td>\n",
       "      <td>fadi420</td>\n",
       "      <td>worldnews</td>\n",
       "    </tr>\n",
       "    <tr>\n",
       "      <th>4</th>\n",
       "      <td>1201274720</td>\n",
       "      <td>2008-01-25</td>\n",
       "      <td>4</td>\n",
       "      <td>0</td>\n",
       "      <td>Council of Europe bashes EU&amp;UN terror blacklist</td>\n",
       "      <td>False</td>\n",
       "      <td>mhermans</td>\n",
       "      <td>worldnews</td>\n",
       "    </tr>\n",
       "    <tr>\n",
       "      <th>...</th>\n",
       "      <td>...</td>\n",
       "      <td>...</td>\n",
       "      <td>...</td>\n",
       "      <td>...</td>\n",
       "      <td>...</td>\n",
       "      <td>...</td>\n",
       "      <td>...</td>\n",
       "      <td>...</td>\n",
       "    </tr>\n",
       "    <tr>\n",
       "      <th>509231</th>\n",
       "      <td>1479816764</td>\n",
       "      <td>2016-11-22</td>\n",
       "      <td>5</td>\n",
       "      <td>0</td>\n",
       "      <td>Heil Trump : Donald Trump s  alt-right  white...</td>\n",
       "      <td>False</td>\n",
       "      <td>nonamenoglory</td>\n",
       "      <td>worldnews</td>\n",
       "    </tr>\n",
       "    <tr>\n",
       "      <th>509232</th>\n",
       "      <td>1479816772</td>\n",
       "      <td>2016-11-22</td>\n",
       "      <td>1</td>\n",
       "      <td>0</td>\n",
       "      <td>There are people speculating that this could b...</td>\n",
       "      <td>False</td>\n",
       "      <td>SummerRay</td>\n",
       "      <td>worldnews</td>\n",
       "    </tr>\n",
       "    <tr>\n",
       "      <th>509233</th>\n",
       "      <td>1479817056</td>\n",
       "      <td>2016-11-22</td>\n",
       "      <td>1</td>\n",
       "      <td>0</td>\n",
       "      <td>Professor receives Arab Researchers Award</td>\n",
       "      <td>False</td>\n",
       "      <td>AUSharjah</td>\n",
       "      <td>worldnews</td>\n",
       "    </tr>\n",
       "    <tr>\n",
       "      <th>509234</th>\n",
       "      <td>1479817157</td>\n",
       "      <td>2016-11-22</td>\n",
       "      <td>1</td>\n",
       "      <td>0</td>\n",
       "      <td>Nigel Farage attacks response to Trump ambassa...</td>\n",
       "      <td>False</td>\n",
       "      <td>smilyflower</td>\n",
       "      <td>worldnews</td>\n",
       "    </tr>\n",
       "    <tr>\n",
       "      <th>509235</th>\n",
       "      <td>1479817346</td>\n",
       "      <td>2016-11-22</td>\n",
       "      <td>1</td>\n",
       "      <td>0</td>\n",
       "      <td>Palestinian wielding knife shot dead in West B...</td>\n",
       "      <td>False</td>\n",
       "      <td>superislam</td>\n",
       "      <td>worldnews</td>\n",
       "    </tr>\n",
       "  </tbody>\n",
       "</table>\n",
       "<p>509236 rows × 8 columns</p>\n",
       "</div>"
      ],
      "text/plain": [
       "        time_created date_created  up_votes  down_votes  \\\n",
       "0         1201232046   2008-01-25         3           0   \n",
       "1         1201232075   2008-01-25         2           0   \n",
       "2         1201232523   2008-01-25         3           0   \n",
       "3         1201233290   2008-01-25         1           0   \n",
       "4         1201274720   2008-01-25         4           0   \n",
       "...              ...          ...       ...         ...   \n",
       "509231    1479816764   2016-11-22         5           0   \n",
       "509232    1479816772   2016-11-22         1           0   \n",
       "509233    1479817056   2016-11-22         1           0   \n",
       "509234    1479817157   2016-11-22         1           0   \n",
       "509235    1479817346   2016-11-22         1           0   \n",
       "\n",
       "                                                    title  over_18  \\\n",
       "0                       Scores killed in Pakistan clashes    False   \n",
       "1                        Japan resumes refuelling mission    False   \n",
       "2                         US presses Egypt on Gaza border    False   \n",
       "3            Jump-start economy: Give health care to all     False   \n",
       "4         Council of Europe bashes EU&UN terror blacklist    False   \n",
       "...                                                   ...      ...   \n",
       "509231   Heil Trump : Donald Trump s  alt-right  white...    False   \n",
       "509232  There are people speculating that this could b...    False   \n",
       "509233          Professor receives Arab Researchers Award    False   \n",
       "509234  Nigel Farage attacks response to Trump ambassa...    False   \n",
       "509235  Palestinian wielding knife shot dead in West B...    False   \n",
       "\n",
       "               author  subreddit  \n",
       "0               polar  worldnews  \n",
       "1               polar  worldnews  \n",
       "2               polar  worldnews  \n",
       "3             fadi420  worldnews  \n",
       "4            mhermans  worldnews  \n",
       "...               ...        ...  \n",
       "509231  nonamenoglory  worldnews  \n",
       "509232      SummerRay  worldnews  \n",
       "509233      AUSharjah  worldnews  \n",
       "509234    smilyflower  worldnews  \n",
       "509235     superislam  worldnews  \n",
       "\n",
       "[509236 rows x 8 columns]"
      ]
     },
     "execution_count": 91,
     "metadata": {},
     "output_type": "execute_result"
    }
   ],
   "source": [
    "df"
   ]
  },
  {
   "cell_type": "markdown",
   "id": "5ee9183f-da18-4656-8f0f-d2e370438602",
   "metadata": {},
   "source": [
    "# Preprocessing "
   ]
  },
  {
   "cell_type": "code",
   "execution_count": 92,
   "id": "c51b1bbe-7097-4d9e-ad2c-9f9e10b803d9",
   "metadata": {},
   "outputs": [],
   "source": [
    "prepro_text = df.title.apply(gensim.utils.simple_preprocess)"
   ]
  },
  {
   "cell_type": "code",
   "execution_count": 93,
   "id": "35f4e20f-ef4f-4664-8058-46d9ca8d6108",
   "metadata": {},
   "outputs": [
    {
     "data": {
      "text/plain": [
       "0                   [scores, killed, in, pakistan, clashes]\n",
       "1                     [japan, resumes, refuelling, mission]\n",
       "2                    [us, presses, egypt, on, gaza, border]\n",
       "3         [jump, start, economy, give, health, care, to,...\n",
       "4         [council, of, europe, bashes, eu, un, terror, ...\n",
       "                                ...                        \n",
       "509231    [heil, trump, donald, trump, alt, right, white...\n",
       "509232    [there, are, people, speculating, that, this, ...\n",
       "509233      [professor, receives, arab, researchers, award]\n",
       "509234    [nigel, farage, attacks, response, to, trump, ...\n",
       "509235    [palestinian, wielding, knife, shot, dead, in,...\n",
       "Name: title, Length: 509236, dtype: object"
      ]
     },
     "execution_count": 93,
     "metadata": {},
     "output_type": "execute_result"
    }
   ],
   "source": [
    "prepro_text"
   ]
  },
  {
   "cell_type": "code",
   "execution_count": 94,
   "id": "8416b225-c551-46f8-a4b6-267408bb3a29",
   "metadata": {},
   "outputs": [
    {
     "data": {
      "text/plain": [
       "['scores', 'killed', 'in', 'pakistan', 'clashes']"
      ]
     },
     "execution_count": 94,
     "metadata": {},
     "output_type": "execute_result"
    }
   ],
   "source": [
    "prepro_text.loc[0]"
   ]
  },
  {
   "cell_type": "markdown",
   "id": "7c3e473a-152e-429b-a9ed-612da232ed48",
   "metadata": {},
   "source": [
    "# Model "
   ]
  },
  {
   "cell_type": "code",
   "execution_count": 27,
   "id": "67804842-3f59-485c-a95d-b2f5e9c5be64",
   "metadata": {},
   "outputs": [],
   "source": [
    "model = Word2Vec(\n",
    "    window=6,\n",
    "    min_count=1,\n",
    "    workers=5,\n",
    ")"
   ]
  },
  {
   "cell_type": "markdown",
   "id": "636cfda8-7fc6-4820-91e4-669390314fea",
   "metadata": {},
   "source": [
    "#### Build vocabulary from a sequence of sentences"
   ]
  },
  {
   "cell_type": "code",
   "execution_count": 28,
   "id": "6ae60a6b-7af0-463f-8754-225ec9538ca8",
   "metadata": {},
   "outputs": [],
   "source": [
    "model.build_vocab(prepro_text, progress_per=1000)"
   ]
  },
  {
   "cell_type": "markdown",
   "id": "1a03b322-f085-4b47-a1f6-7d33226db386",
   "metadata": {},
   "source": [
    "##### traing the model"
   ]
  },
  {
   "cell_type": "code",
   "execution_count": 30,
   "id": "4c5dc689-6de5-4d77-bfde-e375af0c8842",
   "metadata": {},
   "outputs": [
    {
     "data": {
      "text/plain": [
       "(36603221, 42137136)"
      ]
     },
     "execution_count": 30,
     "metadata": {},
     "output_type": "execute_result"
    }
   ],
   "source": [
    "model.train(prepro_text, total_examples=model.corpus_count, epochs=6)"
   ]
  },
  {
   "cell_type": "code",
   "execution_count": 33,
   "id": "0f6bea1d-e42c-4c64-ad1c-5e66274d5fa7",
   "metadata": {},
   "outputs": [],
   "source": [
    "model.save(\"/Users/vamshikrishna/Downloads/word2vec.model\")"
   ]
  },
  {
   "cell_type": "code",
   "execution_count": 86,
   "id": "6e71a9e6-5c80-478c-bcf2-859c08e09292",
   "metadata": {},
   "outputs": [
    {
     "data": {
      "text/plain": [
       "[('kills', 0.807667076587677),\n",
       " ('dead', 0.7548298835754395),\n",
       " ('wounded', 0.7540781497955322),\n",
       " ('injured', 0.6901158094406128),\n",
       " ('died', 0.6847264170646667),\n",
       " ('kill', 0.6815840005874634),\n",
       " ('murdered', 0.6700649261474609),\n",
       " ('killing', 0.6633309721946716),\n",
       " ('massacred', 0.6453139185905457),\n",
       " ('executed', 0.642566978931427)]"
      ]
     },
     "execution_count": 86,
     "metadata": {},
     "output_type": "execute_result"
    }
   ],
   "source": [
    "model.wv.most_similar(\"killed\")"
   ]
  },
  {
   "cell_type": "code",
   "execution_count": null,
   "id": "7f80302b-7f02-4dd8-9e00-8c3d046a7459",
   "metadata": {},
   "outputs": [],
   "source": []
  },
  {
   "cell_type": "markdown",
   "id": "b7522a7a-2eb9-4c72-9d74-0f098c7ccbd1",
   "metadata": {},
   "source": [
    "#### Given a list of words (vocabulary), write a function that will take a word as an argument and return words from the given list that are similar to the given word."
   ]
  },
  {
   "cell_type": "markdown",
   "id": "4b0fbd42-74f6-4056-98da-3328882d516c",
   "metadata": {},
   "source": [
    "#### preparing a list of all words(lists_of_all_texts) from the preprocessed text "
   ]
  },
  {
   "cell_type": "code",
   "execution_count": 98,
   "id": "c971c275-a858-458a-99a9-429fce6149a9",
   "metadata": {},
   "outputs": [],
   "source": [
    "lists_of_lists_of_all_texts = [] \n",
    "for lis in prepro_text:\n",
    "    lists_of_lists_of_all_texts.append(lis)"
   ]
  },
  {
   "cell_type": "code",
   "execution_count": 99,
   "id": "b80ca09a-251a-48b6-a452-380d69cf3a89",
   "metadata": {},
   "outputs": [
    {
     "data": {
      "text/plain": [
       "509236"
      ]
     },
     "execution_count": 99,
     "metadata": {},
     "output_type": "execute_result"
    }
   ],
   "source": [
    "len(lists_of_lists_of_all_texts)"
   ]
  },
  {
   "cell_type": "markdown",
   "id": "729155f6-b6dc-41d7-ace7-e7ae08942eb4",
   "metadata": {},
   "source": [
    "#### making a make a flat list out of a list of lists"
   ]
  },
  {
   "cell_type": "code",
   "execution_count": 100,
   "id": "764b3d92-6e87-4152-ad8b-8688daf5e6ae",
   "metadata": {},
   "outputs": [],
   "source": [
    "flat_list = [item for sublist in lists_of_lists_of_all_texts for item in sublist]"
   ]
  },
  {
   "cell_type": "code",
   "execution_count": 101,
   "id": "2a6541b9-e312-489c-b466-44fa55f207a4",
   "metadata": {},
   "outputs": [
    {
     "data": {
      "text/plain": [
       "83265"
      ]
     },
     "execution_count": 101,
     "metadata": {},
     "output_type": "execute_result"
    }
   ],
   "source": [
    "len(set(flat_list))"
   ]
  },
  {
   "cell_type": "markdown",
   "id": "50266aad-ea7f-468f-be99-b0cd0cddb113",
   "metadata": {},
   "source": [
    "# function that will take a word as an argument and return words from the given list that are similar to the given word"
   ]
  },
  {
   "cell_type": "code",
   "execution_count": 102,
   "id": "8c299977-6888-4a40-86af-641a040839c1",
   "metadata": {},
   "outputs": [],
   "source": [
    "def synomyms(word):\n",
    "    synonyms = []\n",
    "    synss = []\n",
    "        # Finding the synonyms of the words \n",
    "    for mixsyn in model.wv.most_similar(word):\n",
    "        for syns in mixsyn[:1]:\n",
    "            synonyms.append(syns) \n",
    "                # saving the synonyms of the words as list \n",
    "    # taking the words from the synonyms list            \n",
    "    for similar_syn in set(synonyms):       \n",
    "        # if the synonym in the \"text\" it will copy that words to synss = [] list\n",
    "        if similar_syn in set(flat_list):\n",
    "            synss.append(similar_syn)\n",
    "    return synss\n",
    "x = synomyms(\"killed\")"
   ]
  },
  {
   "cell_type": "code",
   "execution_count": 103,
   "id": "47739b20-9334-44ba-9d25-eaf4f4e7b728",
   "metadata": {},
   "outputs": [
    {
     "data": {
      "text/plain": [
       "['died',\n",
       " 'kill',\n",
       " 'massacred',\n",
       " 'executed',\n",
       " 'injured',\n",
       " 'kills',\n",
       " 'dead',\n",
       " 'killing',\n",
       " 'wounded',\n",
       " 'murdered']"
      ]
     },
     "execution_count": 103,
     "metadata": {},
     "output_type": "execute_result"
    }
   ],
   "source": [
    "x"
   ]
  },
  {
   "cell_type": "code",
   "execution_count": null,
   "id": "b5522b68-979f-4f19-8761-0e17b5d25b7d",
   "metadata": {},
   "outputs": [],
   "source": []
  }
 ],
 "metadata": {
  "kernelspec": {
   "display_name": "Python 3 (ipykernel)",
   "language": "python",
   "name": "python3"
  },
  "language_info": {
   "codemirror_mode": {
    "name": "ipython",
    "version": 3
   },
   "file_extension": ".py",
   "mimetype": "text/x-python",
   "name": "python",
   "nbconvert_exporter": "python",
   "pygments_lexer": "ipython3",
   "version": "3.8.12"
  }
 },
 "nbformat": 4,
 "nbformat_minor": 5
}
